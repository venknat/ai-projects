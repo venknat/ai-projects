{
 "cells": [
  {
   "cell_type": "code",
   "execution_count": null,
   "id": "2106acaa-c9e0-4d26-9ae8-f3f531ac2791",
   "metadata": {},
   "outputs": [],
   "source": []
  }
 ],
 "metadata": {
  "kernelspec": {
   "display_name": "fast-ai",
   "language": "python",
   "name": "fast-ai"
  },
  "language_info": {
   "codemirror_mode": {
    "name": "ipython",
    "version": 3
   },
   "file_extension": ".py",
   "mimetype": "text/x-python",
   "name": "python",
   "nbconvert_exporter": "python",
   "pygments_lexer": "ipython3",
   "version": "3.12.11"
  }
 },
 "nbformat": 4,
 "nbformat_minor": 5
}
