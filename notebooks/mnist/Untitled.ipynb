{
 "cells": [
  {
   "cell_type": "markdown",
   "id": "4b97d1a2-2694-4a66-9dfc-fb815160f605",
   "metadata": {},
   "source": [
    "# Mnist Exploration\n",
    "\n",
    "This is a simple project to explore mnist using pytorch.  This is really just for me to get used to doing deep learning using pytorch with a known dataset, try out some techniques.\n",
    "\n",
    "## General Approach\n",
    "\n",
    "This is going to be a top-down sort of thing.  "
   ]
  },
  {
   "cell_type": "code",
   "execution_count": null,
   "id": "518ec916-a1b3-4f19-bef3-b15aafc7db5b",
   "metadata": {},
   "outputs": [],
   "source": []
  }
 ],
 "metadata": {
  "kernelspec": {
   "display_name": "fast-ai",
   "language": "python",
   "name": "fast-ai"
  },
  "language_info": {
   "codemirror_mode": {
    "name": "ipython",
    "version": 3
   },
   "file_extension": ".py",
   "mimetype": "text/x-python",
   "name": "python",
   "nbconvert_exporter": "python",
   "pygments_lexer": "ipython3",
   "version": "3.12.11"
  }
 },
 "nbformat": 4,
 "nbformat_minor": 5
}
